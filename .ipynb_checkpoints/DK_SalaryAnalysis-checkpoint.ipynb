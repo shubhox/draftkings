{
 "cells": [
  {
   "cell_type": "code",
   "execution_count": 1,
   "metadata": {
    "collapsed": true
   },
   "outputs": [],
   "source": [
    "import numpy as np\n",
    "import pandas as pd\n",
    "from matplotlib import pyplot as plt\n",
    "%matplotlib inline\n",
    "import seaborn as sns; sns.set()\n",
    "import io\n",
    "import bs4 as bs\n",
    "import urllib.request"
   ]
  },
  {
   "cell_type": "code",
   "execution_count": 2,
   "metadata": {
    "collapsed": true
   },
   "outputs": [],
   "source": [
    "pd.set_option('display.max.columns', 50)\n",
    "pd.set_option('display.max.rows', 1000)"
   ]
  },
  {
   "cell_type": "code",
   "execution_count": 4,
   "metadata": {
    "collapsed": true
   },
   "outputs": [],
   "source": [
    "BASE_URL = \"http://rotoguru1.com/cgi-bin/fyday.pl?week=WEEK&game=dk&scsv=1&year=YEAR\"\n",
    "WEEKS = range(1,18)\n",
    "YEARS = range(2014,2018)"
   ]
  },
  {
   "cell_type": "code",
   "execution_count": null,
   "metadata": {
    "collapsed": true
   },
   "outputs": [],
   "source": [
    "df_scrape = pd.DataFrame()\n",
    "for wk in list(map(str,WEEKS)):\n",
    "    for yr in list(map(str, YEARS)):\n",
    "        url = urllib.request.urlopen(\"http://rotoguru1.com/cgi-bin/fyday.pl?week=\"+wk+\"&game=dk&scsv=1&year=\"+yr).read()\n",
    "        soup = bs.BeautifulSoup(url, \"lxml\")\n",
    "        week_scrape = pd.read_csv(io.StringIO(soup.find(\"pre\").text),sep=';')\n",
    "        df_scrape = pd.concat([df_scrape, week_scrape])\n",
    "df_scrape.head()"
   ]
  },
  {
   "cell_type": "code",
   "execution_count": null,
   "metadata": {
    "collapsed": true
   },
   "outputs": [],
   "source": [
    "df_scrape.groupby(['Year','Week']).count()"
   ]
  },
  {
   "cell_type": "code",
   "execution_count": null,
   "metadata": {
    "collapsed": true
   },
   "outputs": [],
   "source": []
  },
  {
   "cell_type": "code",
   "execution_count": null,
   "metadata": {
    "collapsed": true
   },
   "outputs": [],
   "source": [
    "#look at salary distribution and DK points\n",
    "for position in ['QB','RB','WR','TE','Def']:\n",
    "    try:\n",
    "        df_position = df[df['Pos'] == position]\n",
    "        plt.figure(figsize=(20,5))\n",
    "        plt.scatter(df_position['DK salary'], df_position['DK points'], marker = '^', color='blue')\n",
    "        plt.title(position+str(': Salary vs Points\\n'), fontsize = 20)\n",
    "        plt.xlabel('DK Salary')\n",
    "        plt.ylabel('DK Points')\n",
    "        plt.plot(np.unique(df_position['DK salary']), np.poly1d(np.polyfit(df_position['DK salary'], \n",
    "                 df_position['DK points'], 1))(np.unique(df_position['DK salary'])))\n",
    "    except:\n",
    "        pass"
   ]
  }
 ],
 "metadata": {
  "kernelspec": {
   "display_name": "Python 3",
   "language": "python",
   "name": "python3"
  },
  "language_info": {
   "codemirror_mode": {
    "name": "ipython",
    "version": 3
   },
   "file_extension": ".py",
   "mimetype": "text/x-python",
   "name": "python",
   "nbconvert_exporter": "python",
   "pygments_lexer": "ipython3",
   "version": "3.5.3"
  }
 },
 "nbformat": 4,
 "nbformat_minor": 2
}
